{
 "cells": [
  {
   "cell_type": "markdown",
   "metadata": {},
   "source": [
    "##### a) Investigate the performance of a number of machine learning procedures on this dataset. "
   ]
  },
  {
   "cell_type": "code",
   "execution_count": 1,
   "metadata": {
    "id": "bP6vyiIySzEq"
   },
   "outputs": [],
   "source": [
    "# Importing libraries for data loading and visualization..\n",
    "import numpy as np\n",
    "import pandas as pd\n",
    "import seaborn as sns\n",
    "import matplotlib.pyplot as plt\n",
    "import warnings\n",
    "warnings.filterwarnings('ignore')"
   ]
  },
  {
   "cell_type": "code",
   "execution_count": 2,
   "metadata": {},
   "outputs": [
    {
     "data": {
      "text/html": [
       "<div>\n",
       "<style scoped>\n",
       "    .dataframe tbody tr th:only-of-type {\n",
       "        vertical-align: middle;\n",
       "    }\n",
       "\n",
       "    .dataframe tbody tr th {\n",
       "        vertical-align: top;\n",
       "    }\n",
       "\n",
       "    .dataframe thead th {\n",
       "        text-align: right;\n",
       "    }\n",
       "</style>\n",
       "<table border=\"1\" class=\"dataframe\">\n",
       "  <thead>\n",
       "    <tr style=\"text-align: right;\">\n",
       "      <th></th>\n",
       "      <th>F1</th>\n",
       "      <th>F2</th>\n",
       "      <th>F3</th>\n",
       "      <th>F4</th>\n",
       "      <th>F5</th>\n",
       "      <th>F6</th>\n",
       "      <th>F7</th>\n",
       "      <th>F8</th>\n",
       "      <th>F9</th>\n",
       "      <th>F10</th>\n",
       "      <th>F11</th>\n",
       "      <th>F12</th>\n",
       "      <th>F13</th>\n",
       "      <th>F14</th>\n",
       "      <th>F15</th>\n",
       "      <th>F16</th>\n",
       "      <th>Target</th>\n",
       "    </tr>\n",
       "  </thead>\n",
       "  <tbody>\n",
       "    <tr>\n",
       "      <th>0</th>\n",
       "      <td>0.00</td>\n",
       "      <td>1.73</td>\n",
       "      <td>3.14</td>\n",
       "      <td>5.73</td>\n",
       "      <td>-5.48</td>\n",
       "      <td>-743.61</td>\n",
       "      <td>152.20</td>\n",
       "      <td>Europe</td>\n",
       "      <td>3</td>\n",
       "      <td>1577.82</td>\n",
       "      <td>-383.82</td>\n",
       "      <td>12</td>\n",
       "      <td>-2289.14</td>\n",
       "      <td>-19.69</td>\n",
       "      <td>High</td>\n",
       "      <td>25354.83</td>\n",
       "      <td>167.75</td>\n",
       "    </tr>\n",
       "    <tr>\n",
       "      <th>1</th>\n",
       "      <td>9.84</td>\n",
       "      <td>3.46</td>\n",
       "      <td>6.02</td>\n",
       "      <td>14.42</td>\n",
       "      <td>-10.94</td>\n",
       "      <td>-820.35</td>\n",
       "      <td>68.56</td>\n",
       "      <td>Rest</td>\n",
       "      <td>4</td>\n",
       "      <td>1884.69</td>\n",
       "      <td>-488.34</td>\n",
       "      <td>6</td>\n",
       "      <td>-2899.20</td>\n",
       "      <td>-19.46</td>\n",
       "      <td>Very low</td>\n",
       "      <td>32380.17</td>\n",
       "      <td>704.46</td>\n",
       "    </tr>\n",
       "    <tr>\n",
       "      <th>2</th>\n",
       "      <td>4.14</td>\n",
       "      <td>-1.95</td>\n",
       "      <td>6.96</td>\n",
       "      <td>4.27</td>\n",
       "      <td>-7.94</td>\n",
       "      <td>-818.43</td>\n",
       "      <td>107.86</td>\n",
       "      <td>Rest</td>\n",
       "      <td>4</td>\n",
       "      <td>2063.79</td>\n",
       "      <td>-287.76</td>\n",
       "      <td>6</td>\n",
       "      <td>-2885.52</td>\n",
       "      <td>-20.57</td>\n",
       "      <td>Very high</td>\n",
       "      <td>28882.38</td>\n",
       "      <td>302.43</td>\n",
       "    </tr>\n",
       "    <tr>\n",
       "      <th>3</th>\n",
       "      <td>20.06</td>\n",
       "      <td>-3.34</td>\n",
       "      <td>3.76</td>\n",
       "      <td>4.78</td>\n",
       "      <td>-6.30</td>\n",
       "      <td>-814.53</td>\n",
       "      <td>147.04</td>\n",
       "      <td>UK</td>\n",
       "      <td>7</td>\n",
       "      <td>1319.19</td>\n",
       "      <td>-435.54</td>\n",
       "      <td>4</td>\n",
       "      <td>-2319.80</td>\n",
       "      <td>-20.24</td>\n",
       "      <td>Very high</td>\n",
       "      <td>28523.04</td>\n",
       "      <td>2420.98</td>\n",
       "    </tr>\n",
       "    <tr>\n",
       "      <th>4</th>\n",
       "      <td>63.63</td>\n",
       "      <td>-0.97</td>\n",
       "      <td>11.08</td>\n",
       "      <td>5.66</td>\n",
       "      <td>-9.60</td>\n",
       "      <td>-847.41</td>\n",
       "      <td>99.70</td>\n",
       "      <td>Europe</td>\n",
       "      <td>1</td>\n",
       "      <td>1921.14</td>\n",
       "      <td>-246.45</td>\n",
       "      <td>10</td>\n",
       "      <td>-1344.40</td>\n",
       "      <td>-21.90</td>\n",
       "      <td>Medium</td>\n",
       "      <td>27915.81</td>\n",
       "      <td>271.65</td>\n",
       "    </tr>\n",
       "  </tbody>\n",
       "</table>\n",
       "</div>"
      ],
      "text/plain": [
       "      F1    F2     F3     F4     F5      F6      F7      F8  F9      F10  \\\n",
       "0   0.00  1.73   3.14   5.73  -5.48 -743.61  152.20  Europe   3  1577.82   \n",
       "1   9.84  3.46   6.02  14.42 -10.94 -820.35   68.56    Rest   4  1884.69   \n",
       "2   4.14 -1.95   6.96   4.27  -7.94 -818.43  107.86    Rest   4  2063.79   \n",
       "3  20.06 -3.34   3.76   4.78  -6.30 -814.53  147.04      UK   7  1319.19   \n",
       "4  63.63 -0.97  11.08   5.66  -9.60 -847.41   99.70  Europe   1  1921.14   \n",
       "\n",
       "      F11  F12      F13    F14        F15       F16   Target  \n",
       "0 -383.82   12 -2289.14 -19.69       High  25354.83   167.75  \n",
       "1 -488.34    6 -2899.20 -19.46   Very low  32380.17   704.46  \n",
       "2 -287.76    6 -2885.52 -20.57  Very high  28882.38   302.43  \n",
       "3 -435.54    4 -2319.80 -20.24  Very high  28523.04  2420.98  \n",
       "4 -246.45   10 -1344.40 -21.90     Medium  27915.81   271.65  "
      ]
     },
     "execution_count": 2,
     "metadata": {},
     "output_type": "execute_result"
    }
   ],
   "source": [
    "# read training dataset\n",
    "td = pd.read_csv(\"CE802_P3_Data.csv\")\n",
    "td.head()"
   ]
  },
  {
   "cell_type": "code",
   "execution_count": 3,
   "metadata": {
    "colab": {
     "base_uri": "https://localhost:8080/"
    },
    "id": "8uo0lVYLSzE1",
    "outputId": "9da286a6-42e5-4c53-f8b8-7677ba14ce82",
    "scrolled": true
   },
   "outputs": [
    {
     "name": "stdout",
     "output_type": "stream",
     "text": [
      "\n",
      "Features Present in the Dataset: \n",
      " Index(['F1', 'F2', 'F3', 'F4', 'F5', 'F6', 'F7', 'F8', 'F9', 'F10', 'F11',\n",
      "       'F12', 'F13', 'F14', 'F15', 'F16', 'Target'],\n",
      "      dtype='object')\n"
     ]
    }
   ],
   "source": [
    "# checking the features, their shape, duplicate values and nan values in the Datasets\n",
    "\n",
    "print(\"\\nFeatures Present in the Dataset: \\n\", td.columns)"
   ]
  },
  {
   "cell_type": "code",
   "execution_count": 4,
   "metadata": {},
   "outputs": [
    {
     "name": "stdout",
     "output_type": "stream",
     "text": [
      "\n",
      "Total Number of Rows :  1500\n",
      "Total Number of Features :  17\n"
     ]
    }
   ],
   "source": [
    "# check total numbers of rows and features in dataset\n",
    "shape=td.shape\n",
    "print(\"\\nTotal Number of Rows : \",shape[0])\n",
    "print(\"Total Number of Features : \", shape[1])"
   ]
  },
  {
   "cell_type": "code",
   "execution_count": 5,
   "metadata": {},
   "outputs": [
    {
     "name": "stdout",
     "output_type": "stream",
     "text": [
      "\n",
      "\n",
      "Data Types of Features :\n",
      " F1        float64\n",
      "F2        float64\n",
      "F3        float64\n",
      "F4        float64\n",
      "F5        float64\n",
      "F6        float64\n",
      "F7        float64\n",
      "F8         object\n",
      "F9          int64\n",
      "F10       float64\n",
      "F11       float64\n",
      "F12         int64\n",
      "F13       float64\n",
      "F14       float64\n",
      "F15        object\n",
      "F16       float64\n",
      "Target    float64\n",
      "dtype: object\n",
      "\n",
      "Dataset contains any NaN/Empty cells :  False\n"
     ]
    }
   ],
   "source": [
    "# check data types and NaN cells in given data\n",
    "print(\"\\n\\nData Types of Features :\\n\", td.dtypes)\n",
    "print(\"\\nDataset contains any NaN/Empty cells : \", td.isnull().values.any())"
   ]
  },
  {
   "cell_type": "code",
   "execution_count": 6,
   "metadata": {},
   "outputs": [
    {
     "name": "stdout",
     "output_type": "stream",
     "text": [
      "\n",
      "Total number of empty rows in each feature:\n",
      " F1        0\n",
      "F2        0\n",
      "F3        0\n",
      "F4        0\n",
      "F5        0\n",
      "F6        0\n",
      "F7        0\n",
      "F8        0\n",
      "F9        0\n",
      "F10       0\n",
      "F11       0\n",
      "F12       0\n",
      "F13       0\n",
      "F14       0\n",
      "F15       0\n",
      "F16       0\n",
      "Target    0\n",
      "dtype: int64 \n",
      "\n",
      "\n",
      "Total number of unique values in each feature:\n",
      "Number of unique values of F1 : 703\n",
      "Number of unique values of F2 : 833\n",
      "Number of unique values of F3 : 728\n",
      "Number of unique values of F4 : 737\n",
      "Number of unique values of F5 : 839\n",
      "Number of unique values of F6 : 1411\n",
      "Number of unique values of F7 : 1405\n",
      "Number of unique values of F8 : 4\n",
      "Number of unique values of F9 : 12\n",
      "Number of unique values of F10 : 1492\n",
      "Number of unique values of F11 : 1399\n",
      "Number of unique values of F12 : 11\n",
      "Number of unique values of F13 : 1488\n",
      "Number of unique values of F14 : 905\n",
      "Number of unique values of F15 : 5\n",
      "Number of unique values of F16 : 1500\n",
      "Number of unique values of Target : 1051\n"
     ]
    }
   ],
   "source": [
    "print(\"\\nTotal number of empty rows in each feature:\\n\", td.isnull().sum(),\"\\n\\n\")\n",
    "print(\"Total number of unique values in each feature:\")\n",
    "for col in td.columns.values:\n",
    "    print(\"Number of unique values of {} : {}\".format(col, td[col].nunique()))"
   ]
  },
  {
   "cell_type": "code",
   "execution_count": 7,
   "metadata": {},
   "outputs": [
    {
     "name": "stdout",
     "output_type": "stream",
     "text": [
      "\n",
      " Average of Target variable is :  \n",
      " 922.0825333333332\n"
     ]
    }
   ],
   "source": [
    "print ('\\n Average of Target variable is : ','\\n',td[\"Target\"].mean())"
   ]
  },
  {
   "cell_type": "code",
   "execution_count": 8,
   "metadata": {
    "colab": {
     "base_uri": "https://localhost:8080/",
     "height": 317
    },
    "id": "VTvGqLxaSzE2",
    "outputId": "54313205-2b6b-4553-a4ff-292f7ad9790e"
   },
   "outputs": [
    {
     "data": {
      "text/html": [
       "<div>\n",
       "<style scoped>\n",
       "    .dataframe tbody tr th:only-of-type {\n",
       "        vertical-align: middle;\n",
       "    }\n",
       "\n",
       "    .dataframe tbody tr th {\n",
       "        vertical-align: top;\n",
       "    }\n",
       "\n",
       "    .dataframe thead th {\n",
       "        text-align: right;\n",
       "    }\n",
       "</style>\n",
       "<table border=\"1\" class=\"dataframe\">\n",
       "  <thead>\n",
       "    <tr style=\"text-align: right;\">\n",
       "      <th></th>\n",
       "      <th>F1</th>\n",
       "      <th>F2</th>\n",
       "      <th>F3</th>\n",
       "      <th>F4</th>\n",
       "      <th>F5</th>\n",
       "      <th>F6</th>\n",
       "      <th>F7</th>\n",
       "      <th>F9</th>\n",
       "      <th>F10</th>\n",
       "      <th>F11</th>\n",
       "      <th>F12</th>\n",
       "      <th>F13</th>\n",
       "      <th>F14</th>\n",
       "      <th>F16</th>\n",
       "      <th>Target</th>\n",
       "    </tr>\n",
       "  </thead>\n",
       "  <tbody>\n",
       "    <tr>\n",
       "      <th>count</th>\n",
       "      <td>1500.000000</td>\n",
       "      <td>1500.000000</td>\n",
       "      <td>1500.000000</td>\n",
       "      <td>1500.000000</td>\n",
       "      <td>1500.000000</td>\n",
       "      <td>1500.000000</td>\n",
       "      <td>1500.000000</td>\n",
       "      <td>1500.000000</td>\n",
       "      <td>1500.00000</td>\n",
       "      <td>1500.000000</td>\n",
       "      <td>1500.000000</td>\n",
       "      <td>1500.000000</td>\n",
       "      <td>1500.000000</td>\n",
       "      <td>1500.000000</td>\n",
       "      <td>1500.000000</td>\n",
       "    </tr>\n",
       "    <tr>\n",
       "      <th>mean</th>\n",
       "      <td>63.602773</td>\n",
       "      <td>-0.104847</td>\n",
       "      <td>8.109187</td>\n",
       "      <td>4.041660</td>\n",
       "      <td>-8.765747</td>\n",
       "      <td>-815.349400</td>\n",
       "      <td>123.191920</td>\n",
       "      <td>3.947333</td>\n",
       "      <td>1334.90566</td>\n",
       "      <td>-341.195900</td>\n",
       "      <td>7.885333</td>\n",
       "      <td>-2173.617040</td>\n",
       "      <td>-20.066667</td>\n",
       "      <td>24202.705020</td>\n",
       "      <td>922.082533</td>\n",
       "    </tr>\n",
       "    <tr>\n",
       "      <th>std</th>\n",
       "      <td>774.154296</td>\n",
       "      <td>3.040026</td>\n",
       "      <td>5.812853</td>\n",
       "      <td>2.893909</td>\n",
       "      <td>6.048501</td>\n",
       "      <td>126.724179</td>\n",
       "      <td>58.613624</td>\n",
       "      <td>1.836702</td>\n",
       "      <td>904.26205</td>\n",
       "      <td>89.572842</td>\n",
       "      <td>3.620072</td>\n",
       "      <td>592.936195</td>\n",
       "      <td>4.183142</td>\n",
       "      <td>13329.106617</td>\n",
       "      <td>1092.331874</td>\n",
       "    </tr>\n",
       "    <tr>\n",
       "      <th>min</th>\n",
       "      <td>0.000000</td>\n",
       "      <td>-10.170000</td>\n",
       "      <td>0.080000</td>\n",
       "      <td>0.040000</td>\n",
       "      <td>-27.620000</td>\n",
       "      <td>-1658.250000</td>\n",
       "      <td>-56.180000</td>\n",
       "      <td>0.000000</td>\n",
       "      <td>-1743.24000</td>\n",
       "      <td>-697.350000</td>\n",
       "      <td>0.000000</td>\n",
       "      <td>-4161.840000</td>\n",
       "      <td>-36.320000</td>\n",
       "      <td>-35082.450000</td>\n",
       "      <td>0.000000</td>\n",
       "    </tr>\n",
       "    <tr>\n",
       "      <th>25%</th>\n",
       "      <td>0.130000</td>\n",
       "      <td>-2.060000</td>\n",
       "      <td>3.815000</td>\n",
       "      <td>1.945000</td>\n",
       "      <td>-13.000000</td>\n",
       "      <td>-875.347500</td>\n",
       "      <td>83.900000</td>\n",
       "      <td>3.000000</td>\n",
       "      <td>732.36000</td>\n",
       "      <td>-401.340000</td>\n",
       "      <td>6.000000</td>\n",
       "      <td>-2578.875000</td>\n",
       "      <td>-22.045000</td>\n",
       "      <td>18069.450000</td>\n",
       "      <td>0.000000</td>\n",
       "    </tr>\n",
       "    <tr>\n",
       "      <th>50%</th>\n",
       "      <td>1.010000</td>\n",
       "      <td>-0.000000</td>\n",
       "      <td>6.740000</td>\n",
       "      <td>3.415000</td>\n",
       "      <td>-8.760000</td>\n",
       "      <td>-815.535000</td>\n",
       "      <td>121.580000</td>\n",
       "      <td>4.000000</td>\n",
       "      <td>1324.15500</td>\n",
       "      <td>-341.055000</td>\n",
       "      <td>8.000000</td>\n",
       "      <td>-2179.270000</td>\n",
       "      <td>-20.085000</td>\n",
       "      <td>24205.875000</td>\n",
       "      <td>429.570000</td>\n",
       "    </tr>\n",
       "    <tr>\n",
       "      <th>75%</th>\n",
       "      <td>6.805000</td>\n",
       "      <td>1.875000</td>\n",
       "      <td>10.945000</td>\n",
       "      <td>5.492500</td>\n",
       "      <td>-4.520000</td>\n",
       "      <td>-752.130000</td>\n",
       "      <td>161.920000</td>\n",
       "      <td>5.000000</td>\n",
       "      <td>1962.12750</td>\n",
       "      <td>-278.595000</td>\n",
       "      <td>10.000000</td>\n",
       "      <td>-1763.605000</td>\n",
       "      <td>-18.175000</td>\n",
       "      <td>30911.280000</td>\n",
       "      <td>1530.205000</td>\n",
       "    </tr>\n",
       "    <tr>\n",
       "      <th>max</th>\n",
       "      <td>27474.530000</td>\n",
       "      <td>9.600000</td>\n",
       "      <td>45.140000</td>\n",
       "      <td>23.390000</td>\n",
       "      <td>9.280000</td>\n",
       "      <td>-243.840000</td>\n",
       "      <td>328.100000</td>\n",
       "      <td>11.000000</td>\n",
       "      <td>4487.55000</td>\n",
       "      <td>-25.530000</td>\n",
       "      <td>20.000000</td>\n",
       "      <td>-45.160000</td>\n",
       "      <td>7.550000</td>\n",
       "      <td>85263.240000</td>\n",
       "      <td>3960.010000</td>\n",
       "    </tr>\n",
       "  </tbody>\n",
       "</table>\n",
       "</div>"
      ],
      "text/plain": [
       "                 F1           F2           F3           F4           F5  \\\n",
       "count   1500.000000  1500.000000  1500.000000  1500.000000  1500.000000   \n",
       "mean      63.602773    -0.104847     8.109187     4.041660    -8.765747   \n",
       "std      774.154296     3.040026     5.812853     2.893909     6.048501   \n",
       "min        0.000000   -10.170000     0.080000     0.040000   -27.620000   \n",
       "25%        0.130000    -2.060000     3.815000     1.945000   -13.000000   \n",
       "50%        1.010000    -0.000000     6.740000     3.415000    -8.760000   \n",
       "75%        6.805000     1.875000    10.945000     5.492500    -4.520000   \n",
       "max    27474.530000     9.600000    45.140000    23.390000     9.280000   \n",
       "\n",
       "                F6           F7           F9         F10          F11  \\\n",
       "count  1500.000000  1500.000000  1500.000000  1500.00000  1500.000000   \n",
       "mean   -815.349400   123.191920     3.947333  1334.90566  -341.195900   \n",
       "std     126.724179    58.613624     1.836702   904.26205    89.572842   \n",
       "min   -1658.250000   -56.180000     0.000000 -1743.24000  -697.350000   \n",
       "25%    -875.347500    83.900000     3.000000   732.36000  -401.340000   \n",
       "50%    -815.535000   121.580000     4.000000  1324.15500  -341.055000   \n",
       "75%    -752.130000   161.920000     5.000000  1962.12750  -278.595000   \n",
       "max    -243.840000   328.100000    11.000000  4487.55000   -25.530000   \n",
       "\n",
       "               F12          F13          F14           F16       Target  \n",
       "count  1500.000000  1500.000000  1500.000000   1500.000000  1500.000000  \n",
       "mean      7.885333 -2173.617040   -20.066667  24202.705020   922.082533  \n",
       "std       3.620072   592.936195     4.183142  13329.106617  1092.331874  \n",
       "min       0.000000 -4161.840000   -36.320000 -35082.450000     0.000000  \n",
       "25%       6.000000 -2578.875000   -22.045000  18069.450000     0.000000  \n",
       "50%       8.000000 -2179.270000   -20.085000  24205.875000   429.570000  \n",
       "75%      10.000000 -1763.605000   -18.175000  30911.280000  1530.205000  \n",
       "max      20.000000   -45.160000     7.550000  85263.240000  3960.010000  "
      ]
     },
     "execution_count": 8,
     "metadata": {},
     "output_type": "execute_result"
    }
   ],
   "source": [
    "# Checking Statistical Informations...\n",
    "td.describe()"
   ]
  },
  {
   "cell_type": "code",
   "execution_count": 9,
   "metadata": {
    "colab": {
     "base_uri": "https://localhost:8080/",
     "height": 1000
    },
    "id": "3RjbQqzrSzE7",
    "outputId": "8a31ae6a-d812-42cf-cb6e-1dbdfdc61adf"
   },
   "outputs": [
    {
     "data": {
      "text/html": [
       "<div>\n",
       "<style scoped>\n",
       "    .dataframe tbody tr th:only-of-type {\n",
       "        vertical-align: middle;\n",
       "    }\n",
       "\n",
       "    .dataframe tbody tr th {\n",
       "        vertical-align: top;\n",
       "    }\n",
       "\n",
       "    .dataframe thead th {\n",
       "        text-align: right;\n",
       "    }\n",
       "</style>\n",
       "<table border=\"1\" class=\"dataframe\">\n",
       "  <thead>\n",
       "    <tr style=\"text-align: right;\">\n",
       "      <th></th>\n",
       "      <th>F1</th>\n",
       "      <th>F2</th>\n",
       "      <th>F3</th>\n",
       "      <th>F4</th>\n",
       "      <th>F5</th>\n",
       "      <th>F6</th>\n",
       "      <th>F7</th>\n",
       "      <th>F9</th>\n",
       "      <th>F10</th>\n",
       "      <th>F11</th>\n",
       "      <th>F12</th>\n",
       "      <th>F13</th>\n",
       "      <th>F14</th>\n",
       "      <th>F16</th>\n",
       "      <th>Target</th>\n",
       "    </tr>\n",
       "  </thead>\n",
       "  <tbody>\n",
       "    <tr>\n",
       "      <th>F1</th>\n",
       "      <td>1.000000</td>\n",
       "      <td>0.014330</td>\n",
       "      <td>0.059413</td>\n",
       "      <td>-0.005763</td>\n",
       "      <td>0.032332</td>\n",
       "      <td>-0.027544</td>\n",
       "      <td>0.011987</td>\n",
       "      <td>0.046442</td>\n",
       "      <td>0.040372</td>\n",
       "      <td>0.006548</td>\n",
       "      <td>-0.013561</td>\n",
       "      <td>0.006771</td>\n",
       "      <td>-0.001758</td>\n",
       "      <td>0.066430</td>\n",
       "      <td>0.027713</td>\n",
       "    </tr>\n",
       "    <tr>\n",
       "      <th>F2</th>\n",
       "      <td>0.014330</td>\n",
       "      <td>1.000000</td>\n",
       "      <td>-0.018861</td>\n",
       "      <td>0.021228</td>\n",
       "      <td>0.017546</td>\n",
       "      <td>0.008484</td>\n",
       "      <td>-0.012457</td>\n",
       "      <td>0.026931</td>\n",
       "      <td>0.039825</td>\n",
       "      <td>-0.004979</td>\n",
       "      <td>0.006276</td>\n",
       "      <td>0.019297</td>\n",
       "      <td>-0.025476</td>\n",
       "      <td>0.042207</td>\n",
       "      <td>0.011330</td>\n",
       "    </tr>\n",
       "    <tr>\n",
       "      <th>F3</th>\n",
       "      <td>0.059413</td>\n",
       "      <td>-0.018861</td>\n",
       "      <td>1.000000</td>\n",
       "      <td>-0.022325</td>\n",
       "      <td>0.037862</td>\n",
       "      <td>0.026478</td>\n",
       "      <td>0.046542</td>\n",
       "      <td>-0.028201</td>\n",
       "      <td>-0.012850</td>\n",
       "      <td>-0.017902</td>\n",
       "      <td>-0.013474</td>\n",
       "      <td>0.005397</td>\n",
       "      <td>-0.032430</td>\n",
       "      <td>0.060349</td>\n",
       "      <td>0.357137</td>\n",
       "    </tr>\n",
       "    <tr>\n",
       "      <th>F4</th>\n",
       "      <td>-0.005763</td>\n",
       "      <td>0.021228</td>\n",
       "      <td>-0.022325</td>\n",
       "      <td>1.000000</td>\n",
       "      <td>0.009609</td>\n",
       "      <td>0.014407</td>\n",
       "      <td>0.000099</td>\n",
       "      <td>0.003647</td>\n",
       "      <td>-0.041882</td>\n",
       "      <td>0.050148</td>\n",
       "      <td>0.005589</td>\n",
       "      <td>-0.001317</td>\n",
       "      <td>-0.036053</td>\n",
       "      <td>-0.007184</td>\n",
       "      <td>0.346373</td>\n",
       "    </tr>\n",
       "    <tr>\n",
       "      <th>F5</th>\n",
       "      <td>0.032332</td>\n",
       "      <td>0.017546</td>\n",
       "      <td>0.037862</td>\n",
       "      <td>0.009609</td>\n",
       "      <td>1.000000</td>\n",
       "      <td>-0.031183</td>\n",
       "      <td>0.000302</td>\n",
       "      <td>-0.002310</td>\n",
       "      <td>-0.004091</td>\n",
       "      <td>0.012025</td>\n",
       "      <td>-0.004793</td>\n",
       "      <td>-0.023763</td>\n",
       "      <td>0.020489</td>\n",
       "      <td>-0.006157</td>\n",
       "      <td>0.020443</td>\n",
       "    </tr>\n",
       "    <tr>\n",
       "      <th>F6</th>\n",
       "      <td>-0.027544</td>\n",
       "      <td>0.008484</td>\n",
       "      <td>0.026478</td>\n",
       "      <td>0.014407</td>\n",
       "      <td>-0.031183</td>\n",
       "      <td>1.000000</td>\n",
       "      <td>-0.009240</td>\n",
       "      <td>0.016949</td>\n",
       "      <td>-0.016704</td>\n",
       "      <td>-0.002309</td>\n",
       "      <td>0.007359</td>\n",
       "      <td>0.072085</td>\n",
       "      <td>0.006407</td>\n",
       "      <td>-0.012488</td>\n",
       "      <td>0.031407</td>\n",
       "    </tr>\n",
       "    <tr>\n",
       "      <th>F7</th>\n",
       "      <td>0.011987</td>\n",
       "      <td>-0.012457</td>\n",
       "      <td>0.046542</td>\n",
       "      <td>0.000099</td>\n",
       "      <td>0.000302</td>\n",
       "      <td>-0.009240</td>\n",
       "      <td>1.000000</td>\n",
       "      <td>-0.018839</td>\n",
       "      <td>-0.051243</td>\n",
       "      <td>0.012594</td>\n",
       "      <td>-0.011457</td>\n",
       "      <td>0.006295</td>\n",
       "      <td>-0.027557</td>\n",
       "      <td>0.007560</td>\n",
       "      <td>0.430990</td>\n",
       "    </tr>\n",
       "    <tr>\n",
       "      <th>F9</th>\n",
       "      <td>0.046442</td>\n",
       "      <td>0.026931</td>\n",
       "      <td>-0.028201</td>\n",
       "      <td>0.003647</td>\n",
       "      <td>-0.002310</td>\n",
       "      <td>0.016949</td>\n",
       "      <td>-0.018839</td>\n",
       "      <td>1.000000</td>\n",
       "      <td>0.007670</td>\n",
       "      <td>0.000822</td>\n",
       "      <td>0.006516</td>\n",
       "      <td>0.014783</td>\n",
       "      <td>-0.022900</td>\n",
       "      <td>0.004651</td>\n",
       "      <td>0.193704</td>\n",
       "    </tr>\n",
       "    <tr>\n",
       "      <th>F10</th>\n",
       "      <td>0.040372</td>\n",
       "      <td>0.039825</td>\n",
       "      <td>-0.012850</td>\n",
       "      <td>-0.041882</td>\n",
       "      <td>-0.004091</td>\n",
       "      <td>-0.016704</td>\n",
       "      <td>-0.051243</td>\n",
       "      <td>0.007670</td>\n",
       "      <td>1.000000</td>\n",
       "      <td>0.061850</td>\n",
       "      <td>-0.002825</td>\n",
       "      <td>0.007113</td>\n",
       "      <td>-0.000184</td>\n",
       "      <td>-0.007832</td>\n",
       "      <td>-0.263022</td>\n",
       "    </tr>\n",
       "    <tr>\n",
       "      <th>F11</th>\n",
       "      <td>0.006548</td>\n",
       "      <td>-0.004979</td>\n",
       "      <td>-0.017902</td>\n",
       "      <td>0.050148</td>\n",
       "      <td>0.012025</td>\n",
       "      <td>-0.002309</td>\n",
       "      <td>0.012594</td>\n",
       "      <td>0.000822</td>\n",
       "      <td>0.061850</td>\n",
       "      <td>1.000000</td>\n",
       "      <td>-0.064451</td>\n",
       "      <td>-0.001042</td>\n",
       "      <td>0.035125</td>\n",
       "      <td>0.013438</td>\n",
       "      <td>0.015412</td>\n",
       "    </tr>\n",
       "    <tr>\n",
       "      <th>F12</th>\n",
       "      <td>-0.013561</td>\n",
       "      <td>0.006276</td>\n",
       "      <td>-0.013474</td>\n",
       "      <td>0.005589</td>\n",
       "      <td>-0.004793</td>\n",
       "      <td>0.007359</td>\n",
       "      <td>-0.011457</td>\n",
       "      <td>0.006516</td>\n",
       "      <td>-0.002825</td>\n",
       "      <td>-0.064451</td>\n",
       "      <td>1.000000</td>\n",
       "      <td>-0.013712</td>\n",
       "      <td>-0.049907</td>\n",
       "      <td>0.004620</td>\n",
       "      <td>-0.236200</td>\n",
       "    </tr>\n",
       "    <tr>\n",
       "      <th>F13</th>\n",
       "      <td>0.006771</td>\n",
       "      <td>0.019297</td>\n",
       "      <td>0.005397</td>\n",
       "      <td>-0.001317</td>\n",
       "      <td>-0.023763</td>\n",
       "      <td>0.072085</td>\n",
       "      <td>0.006295</td>\n",
       "      <td>0.014783</td>\n",
       "      <td>0.007113</td>\n",
       "      <td>-0.001042</td>\n",
       "      <td>-0.013712</td>\n",
       "      <td>1.000000</td>\n",
       "      <td>0.033006</td>\n",
       "      <td>-0.010391</td>\n",
       "      <td>0.300890</td>\n",
       "    </tr>\n",
       "    <tr>\n",
       "      <th>F14</th>\n",
       "      <td>-0.001758</td>\n",
       "      <td>-0.025476</td>\n",
       "      <td>-0.032430</td>\n",
       "      <td>-0.036053</td>\n",
       "      <td>0.020489</td>\n",
       "      <td>0.006407</td>\n",
       "      <td>-0.027557</td>\n",
       "      <td>-0.022900</td>\n",
       "      <td>-0.000184</td>\n",
       "      <td>0.035125</td>\n",
       "      <td>-0.049907</td>\n",
       "      <td>0.033006</td>\n",
       "      <td>1.000000</td>\n",
       "      <td>-0.024939</td>\n",
       "      <td>-0.018677</td>\n",
       "    </tr>\n",
       "    <tr>\n",
       "      <th>F16</th>\n",
       "      <td>0.066430</td>\n",
       "      <td>0.042207</td>\n",
       "      <td>0.060349</td>\n",
       "      <td>-0.007184</td>\n",
       "      <td>-0.006157</td>\n",
       "      <td>-0.012488</td>\n",
       "      <td>0.007560</td>\n",
       "      <td>0.004651</td>\n",
       "      <td>-0.007832</td>\n",
       "      <td>0.013438</td>\n",
       "      <td>0.004620</td>\n",
       "      <td>-0.010391</td>\n",
       "      <td>-0.024939</td>\n",
       "      <td>1.000000</td>\n",
       "      <td>0.029194</td>\n",
       "    </tr>\n",
       "    <tr>\n",
       "      <th>Target</th>\n",
       "      <td>0.027713</td>\n",
       "      <td>0.011330</td>\n",
       "      <td>0.357137</td>\n",
       "      <td>0.346373</td>\n",
       "      <td>0.020443</td>\n",
       "      <td>0.031407</td>\n",
       "      <td>0.430990</td>\n",
       "      <td>0.193704</td>\n",
       "      <td>-0.263022</td>\n",
       "      <td>0.015412</td>\n",
       "      <td>-0.236200</td>\n",
       "      <td>0.300890</td>\n",
       "      <td>-0.018677</td>\n",
       "      <td>0.029194</td>\n",
       "      <td>1.000000</td>\n",
       "    </tr>\n",
       "  </tbody>\n",
       "</table>\n",
       "</div>"
      ],
      "text/plain": [
       "              F1        F2        F3        F4        F5        F6        F7  \\\n",
       "F1      1.000000  0.014330  0.059413 -0.005763  0.032332 -0.027544  0.011987   \n",
       "F2      0.014330  1.000000 -0.018861  0.021228  0.017546  0.008484 -0.012457   \n",
       "F3      0.059413 -0.018861  1.000000 -0.022325  0.037862  0.026478  0.046542   \n",
       "F4     -0.005763  0.021228 -0.022325  1.000000  0.009609  0.014407  0.000099   \n",
       "F5      0.032332  0.017546  0.037862  0.009609  1.000000 -0.031183  0.000302   \n",
       "F6     -0.027544  0.008484  0.026478  0.014407 -0.031183  1.000000 -0.009240   \n",
       "F7      0.011987 -0.012457  0.046542  0.000099  0.000302 -0.009240  1.000000   \n",
       "F9      0.046442  0.026931 -0.028201  0.003647 -0.002310  0.016949 -0.018839   \n",
       "F10     0.040372  0.039825 -0.012850 -0.041882 -0.004091 -0.016704 -0.051243   \n",
       "F11     0.006548 -0.004979 -0.017902  0.050148  0.012025 -0.002309  0.012594   \n",
       "F12    -0.013561  0.006276 -0.013474  0.005589 -0.004793  0.007359 -0.011457   \n",
       "F13     0.006771  0.019297  0.005397 -0.001317 -0.023763  0.072085  0.006295   \n",
       "F14    -0.001758 -0.025476 -0.032430 -0.036053  0.020489  0.006407 -0.027557   \n",
       "F16     0.066430  0.042207  0.060349 -0.007184 -0.006157 -0.012488  0.007560   \n",
       "Target  0.027713  0.011330  0.357137  0.346373  0.020443  0.031407  0.430990   \n",
       "\n",
       "              F9       F10       F11       F12       F13       F14       F16  \\\n",
       "F1      0.046442  0.040372  0.006548 -0.013561  0.006771 -0.001758  0.066430   \n",
       "F2      0.026931  0.039825 -0.004979  0.006276  0.019297 -0.025476  0.042207   \n",
       "F3     -0.028201 -0.012850 -0.017902 -0.013474  0.005397 -0.032430  0.060349   \n",
       "F4      0.003647 -0.041882  0.050148  0.005589 -0.001317 -0.036053 -0.007184   \n",
       "F5     -0.002310 -0.004091  0.012025 -0.004793 -0.023763  0.020489 -0.006157   \n",
       "F6      0.016949 -0.016704 -0.002309  0.007359  0.072085  0.006407 -0.012488   \n",
       "F7     -0.018839 -0.051243  0.012594 -0.011457  0.006295 -0.027557  0.007560   \n",
       "F9      1.000000  0.007670  0.000822  0.006516  0.014783 -0.022900  0.004651   \n",
       "F10     0.007670  1.000000  0.061850 -0.002825  0.007113 -0.000184 -0.007832   \n",
       "F11     0.000822  0.061850  1.000000 -0.064451 -0.001042  0.035125  0.013438   \n",
       "F12     0.006516 -0.002825 -0.064451  1.000000 -0.013712 -0.049907  0.004620   \n",
       "F13     0.014783  0.007113 -0.001042 -0.013712  1.000000  0.033006 -0.010391   \n",
       "F14    -0.022900 -0.000184  0.035125 -0.049907  0.033006  1.000000 -0.024939   \n",
       "F16     0.004651 -0.007832  0.013438  0.004620 -0.010391 -0.024939  1.000000   \n",
       "Target  0.193704 -0.263022  0.015412 -0.236200  0.300890 -0.018677  0.029194   \n",
       "\n",
       "          Target  \n",
       "F1      0.027713  \n",
       "F2      0.011330  \n",
       "F3      0.357137  \n",
       "F4      0.346373  \n",
       "F5      0.020443  \n",
       "F6      0.031407  \n",
       "F7      0.430990  \n",
       "F9      0.193704  \n",
       "F10    -0.263022  \n",
       "F11     0.015412  \n",
       "F12    -0.236200  \n",
       "F13     0.300890  \n",
       "F14    -0.018677  \n",
       "F16     0.029194  \n",
       "Target  1.000000  "
      ]
     },
     "execution_count": 9,
     "metadata": {},
     "output_type": "execute_result"
    }
   ],
   "source": [
    "# Checking the correlation between the features and the label...\n",
    "td.corr()"
   ]
  },
  {
   "cell_type": "code",
   "execution_count": 10,
   "metadata": {
    "colab": {
     "base_uri": "https://localhost:8080/"
    },
    "id": "8Rj7enWDSzE7",
    "outputId": "062179c8-51ca-4198-c485-fed97893bdf7",
    "scrolled": true
   },
   "outputs": [
    {
     "data": {
      "image/png": "[encoded data removed]",
      "text/plain": [
       "<Figure size 432x216 with 1 Axes>"
      ]
     },
     "metadata": {
      "needs_background": "light"
     },
     "output_type": "display_data"
    },
    {
     "data": {
      "image/png": "[encoded data removed]",
      "text/plain": [
       "<Figure size 432x216 with 1 Axes>"
      ]
     },
     "metadata": {
      "needs_background": "light"
     },
     "output_type": "display_data"
    }
   ],
   "source": [
    "# For loop to display some important features counts in one go...\n",
    "list=['F8','F15']\n",
    "for i in list:\n",
    "    plt.subplots(figsize=(6,3))\n",
    "    sns.countplot(i,data=td)\n",
    "    plt.show()"
   ]
  },
  {
   "cell_type": "code",
   "execution_count": 11,
   "metadata": {
    "colab": {
     "base_uri": "https://localhost:8080/"
    },
    "id": "-NIELQViSzE-",
    "outputId": "32e56d82-18c0-4bf3-e93e-36a8ae5ffd8a",
    "scrolled": true
   },
   "outputs": [
    {
     "data": {
      "text/plain": [
       "F1        30.682088\n",
       "F2        -0.087231\n",
       "F3         1.458260\n",
       "F4         1.497921\n",
       "F5         0.018367\n",
       "F6        -0.045611\n",
       "F7         0.127851\n",
       "F9         0.390727\n",
       "F10        0.025423\n",
       "F11       -0.045861\n",
       "F12        0.393697\n",
       "F13        0.025181\n",
       "F14        0.446734\n",
       "F16       -0.064664\n",
       "Target     1.119126\n",
       "dtype: float64"
      ]
     },
     "execution_count": 11,
     "metadata": {},
     "output_type": "execute_result"
    }
   ],
   "source": [
    "# Checking skewness\n",
    "td.skew()"
   ]
  },
  {
   "cell_type": "code",
   "execution_count": 12,
   "metadata": {},
   "outputs": [],
   "source": [
    "td[\"F1\"] = np.log1p(td[\"F1\"])"
   ]
  },
  {
   "cell_type": "code",
   "execution_count": 13,
   "metadata": {
    "scrolled": true
   },
   "outputs": [
    {
     "data": {
      "text/plain": [
       "Rest      407\n",
       "UK        380\n",
       "Europe    360\n",
       "USA       353\n",
       "Name: F8, dtype: int64"
      ]
     },
     "execution_count": 13,
     "metadata": {},
     "output_type": "execute_result"
    }
   ],
   "source": [
    "td[\"F8\"].value_counts()"
   ]
  },
  {
   "cell_type": "code",
   "execution_count": 14,
   "metadata": {},
   "outputs": [],
   "source": [
    "#label encoding the data \n",
    "from sklearn.preprocessing import LabelEncoder \n",
    "lbe = LabelEncoder() \n",
    "td[\"F8\"]= lbe.fit_transform(td[\"F8\"]) \n",
    "td[\"F15\"]= lbe.fit_transform(td[\"F15\"]) "
   ]
  },
  {
   "cell_type": "code",
   "execution_count": 15,
   "metadata": {
    "scrolled": false
   },
   "outputs": [
    {
     "data": {
      "text/html": [
       "<div>\n",
       "<style scoped>\n",
       "    .dataframe tbody tr th:only-of-type {\n",
       "        vertical-align: middle;\n",
       "    }\n",
       "\n",
       "    .dataframe tbody tr th {\n",
       "        vertical-align: top;\n",
       "    }\n",
       "\n",
       "    .dataframe thead th {\n",
       "        text-align: right;\n",
       "    }\n",
       "</style>\n",
       "<table border=\"1\" class=\"dataframe\">\n",
       "  <thead>\n",
       "    <tr style=\"text-align: right;\">\n",
       "      <th></th>\n",
       "      <th>F1</th>\n",
       "      <th>F2</th>\n",
       "      <th>F3</th>\n",
       "      <th>F4</th>\n",
       "      <th>F5</th>\n",
       "      <th>F6</th>\n",
       "      <th>F7</th>\n",
       "      <th>F8</th>\n",
       "      <th>F9</th>\n",
       "      <th>F10</th>\n",
       "      <th>F11</th>\n",
       "      <th>F12</th>\n",
       "      <th>F13</th>\n",
       "      <th>F14</th>\n",
       "      <th>F15</th>\n",
       "      <th>F16</th>\n",
       "      <th>Target</th>\n",
       "    </tr>\n",
       "  </thead>\n",
       "  <tbody>\n",
       "    <tr>\n",
       "      <th>0</th>\n",
       "      <td>0.000000</td>\n",
       "      <td>1.73</td>\n",
       "      <td>3.14</td>\n",
       "      <td>5.73</td>\n",
       "      <td>-5.48</td>\n",
       "      <td>-743.61</td>\n",
       "      <td>152.20</td>\n",
       "      <td>0</td>\n",
       "      <td>3</td>\n",
       "      <td>1577.82</td>\n",
       "      <td>-383.82</td>\n",
       "      <td>12</td>\n",
       "      <td>-2289.14</td>\n",
       "      <td>-19.69</td>\n",
       "      <td>0</td>\n",
       "      <td>25354.83</td>\n",
       "      <td>167.75</td>\n",
       "    </tr>\n",
       "    <tr>\n",
       "      <th>1</th>\n",
       "      <td>2.383243</td>\n",
       "      <td>3.46</td>\n",
       "      <td>6.02</td>\n",
       "      <td>14.42</td>\n",
       "      <td>-10.94</td>\n",
       "      <td>-820.35</td>\n",
       "      <td>68.56</td>\n",
       "      <td>1</td>\n",
       "      <td>4</td>\n",
       "      <td>1884.69</td>\n",
       "      <td>-488.34</td>\n",
       "      <td>6</td>\n",
       "      <td>-2899.20</td>\n",
       "      <td>-19.46</td>\n",
       "      <td>4</td>\n",
       "      <td>32380.17</td>\n",
       "      <td>704.46</td>\n",
       "    </tr>\n",
       "    <tr>\n",
       "      <th>2</th>\n",
       "      <td>1.637053</td>\n",
       "      <td>-1.95</td>\n",
       "      <td>6.96</td>\n",
       "      <td>4.27</td>\n",
       "      <td>-7.94</td>\n",
       "      <td>-818.43</td>\n",
       "      <td>107.86</td>\n",
       "      <td>1</td>\n",
       "      <td>4</td>\n",
       "      <td>2063.79</td>\n",
       "      <td>-287.76</td>\n",
       "      <td>6</td>\n",
       "      <td>-2885.52</td>\n",
       "      <td>-20.57</td>\n",
       "      <td>3</td>\n",
       "      <td>28882.38</td>\n",
       "      <td>302.43</td>\n",
       "    </tr>\n",
       "    <tr>\n",
       "      <th>3</th>\n",
       "      <td>3.047376</td>\n",
       "      <td>-3.34</td>\n",
       "      <td>3.76</td>\n",
       "      <td>4.78</td>\n",
       "      <td>-6.30</td>\n",
       "      <td>-814.53</td>\n",
       "      <td>147.04</td>\n",
       "      <td>2</td>\n",
       "      <td>7</td>\n",
       "      <td>1319.19</td>\n",
       "      <td>-435.54</td>\n",
       "      <td>4</td>\n",
       "      <td>-2319.80</td>\n",
       "      <td>-20.24</td>\n",
       "      <td>3</td>\n",
       "      <td>28523.04</td>\n",
       "      <td>2420.98</td>\n",
       "    </tr>\n",
       "    <tr>\n",
       "      <th>4</th>\n",
       "      <td>4.168679</td>\n",
       "      <td>-0.97</td>\n",
       "      <td>11.08</td>\n",
       "      <td>5.66</td>\n",
       "      <td>-9.60</td>\n",
       "      <td>-847.41</td>\n",
       "      <td>99.70</td>\n",
       "      <td>0</td>\n",
       "      <td>1</td>\n",
       "      <td>1921.14</td>\n",
       "      <td>-246.45</td>\n",
       "      <td>10</td>\n",
       "      <td>-1344.40</td>\n",
       "      <td>-21.90</td>\n",
       "      <td>2</td>\n",
       "      <td>27915.81</td>\n",
       "      <td>271.65</td>\n",
       "    </tr>\n",
       "  </tbody>\n",
       "</table>\n",
       "</div>"
      ],
      "text/plain": [
       "         F1    F2     F3     F4     F5      F6      F7  F8  F9      F10  \\\n",
       "0  0.000000  1.73   3.14   5.73  -5.48 -743.61  152.20   0   3  1577.82   \n",
       "1  2.383243  3.46   6.02  14.42 -10.94 -820.35   68.56   1   4  1884.69   \n",
       "2  1.637053 -1.95   6.96   4.27  -7.94 -818.43  107.86   1   4  2063.79   \n",
       "3  3.047376 -3.34   3.76   4.78  -6.30 -814.53  147.04   2   7  1319.19   \n",
       "4  4.168679 -0.97  11.08   5.66  -9.60 -847.41   99.70   0   1  1921.14   \n",
       "\n",
       "      F11  F12      F13    F14  F15       F16   Target  \n",
       "0 -383.82   12 -2289.14 -19.69    0  25354.83   167.75  \n",
       "1 -488.34    6 -2899.20 -19.46    4  32380.17   704.46  \n",
       "2 -287.76    6 -2885.52 -20.57    3  28882.38   302.43  \n",
       "3 -435.54    4 -2319.80 -20.24    3  28523.04  2420.98  \n",
       "4 -246.45   10 -1344.40 -21.90    2  27915.81   271.65  "
      ]
     },
     "execution_count": 15,
     "metadata": {},
     "output_type": "execute_result"
    }
   ],
   "source": [
    "td.head()"
   ]
  },
  {
   "cell_type": "code",
   "execution_count": 16,
   "metadata": {},
   "outputs": [
    {
     "name": "stdout",
     "output_type": "stream",
     "text": [
      "(1500, 16)\n"
     ]
    }
   ],
   "source": [
    "x_train=td.drop(['Target'],axis=1)\n",
    "print(x_train.shape)"
   ]
  },
  {
   "cell_type": "code",
   "execution_count": 17,
   "metadata": {},
   "outputs": [
    {
     "data": {
      "text/plain": [
       "(1500,)"
      ]
     },
     "execution_count": 17,
     "metadata": {},
     "output_type": "execute_result"
    }
   ],
   "source": [
    "# Setting up the Target value in variable y1.\n",
    "y_train=td['Target']\n",
    "y_train.shape"
   ]
  },
  {
   "cell_type": "code",
   "execution_count": 18,
   "metadata": {},
   "outputs": [],
   "source": [
    "from sklearn.linear_model import LinearRegression, Ridge, Lasso\n",
    "from sklearn import preprocessing\n",
    "from sklearn.metrics import mean_squared_error"
   ]
  },
  {
   "cell_type": "code",
   "execution_count": 19,
   "metadata": {},
   "outputs": [
    {
     "data": {
      "text/plain": [
       "LinearRegression()"
      ]
     },
     "execution_count": 19,
     "metadata": {},
     "output_type": "execute_result"
    }
   ],
   "source": [
    "# Create an object lr for the Linear Regression model\n",
    "lr = LinearRegression()\n",
    "# Fit the model on the training data\n",
    "lr.fit(x_train, y_train)"
   ]
  },
  {
   "cell_type": "code",
   "execution_count": 20,
   "metadata": {},
   "outputs": [
    {
     "name": "stdout",
     "output_type": "stream",
     "text": [
      "R squared value: 0.665\n"
     ]
    }
   ],
   "source": [
    "# R2 for train and test data\n",
    "R2_reg_train = lr.score(x_train,y_train)\n",
    "print('R squared value: %.3f' %(R2_reg_train))"
   ]
  },
  {
   "cell_type": "code",
   "execution_count": 21,
   "metadata": {},
   "outputs": [
    {
     "name": "stdout",
     "output_type": "stream",
     "text": [
      "Root mean squared error value: 631.925\n"
     ]
    }
   ],
   "source": [
    "from math import sqrt\n",
    "RMSE_reg_train = sqrt(np.mean((y_train - lr.predict(x_train))**2))\n",
    "print('Root mean squared error value: %.3f' %(RMSE_reg_train))"
   ]
  },
  {
   "cell_type": "code",
   "execution_count": 22,
   "metadata": {},
   "outputs": [
    {
     "data": {
      "text/plain": [
       "Text(0.5, 1.0, 'Residual Plot')"
      ]
     },
     "execution_count": 22,
     "metadata": {},
     "output_type": "execute_result"
    },
    {
     "data": {
      "image/png": "[encoded data removed]",
      "text/plain": [
       "<Figure size 432x288 with 1 Axes>"
      ]
     },
     "metadata": {
      "needs_background": "light"
     },
     "output_type": "display_data"
    }
   ],
   "source": [
    "sns.residplot(x=lr.predict(x_train), y=y_train, lowess=True)\n",
    "plt.title('Residual Plot')"
   ]
  },
  {
   "cell_type": "code",
   "execution_count": 23,
   "metadata": {},
   "outputs": [
    {
     "data": {
      "text/plain": [
       "Ridge()"
      ]
     },
     "execution_count": 23,
     "metadata": {},
     "output_type": "execute_result"
    }
   ],
   "source": [
    "# Create an object for Ridge\n",
    "ridge_reg = Ridge()\n",
    "# Fit the model to our training data\n",
    "ridge_reg.fit(x_train,y_train)"
   ]
  },
  {
   "cell_type": "code",
   "execution_count": 24,
   "metadata": {},
   "outputs": [
    {
     "name": "stdout",
     "output_type": "stream",
     "text": [
      "Best alpha value is: 10\n"
     ]
    }
   ],
   "source": [
    "from sklearn.model_selection import  GridSearchCV\n",
    "# Import library to find out score (R2)\n",
    "from sklearn.metrics import r2_score\n",
    "\n",
    "# Define an array of alpha values\n",
    "alphas = [1e-15, 1e-10, 1e-8, 1e-5,1e-4, 1e-3,1e-2, 1, 5, 10]\n",
    "\n",
    "# Define GridSearchCV \n",
    "ridge_grid = GridSearchCV(estimator=ridge_reg, param_grid = dict(alpha=alphas), scoring = 'r2')\n",
    "\n",
    "# Fit the training model \n",
    "ridge_grid.fit(x_train, y_train)\n",
    "\n",
    "# Get the best alpha value and it's respective R2 score\n",
    "print(\"Best alpha value is: %s\" % ridge_grid.best_params_[\"alpha\"])"
   ]
  },
  {
   "cell_type": "code",
   "execution_count": 25,
   "metadata": {},
   "outputs": [
    {
     "name": "stdout",
     "output_type": "stream",
     "text": [
      "R squared value: 0.496\n"
     ]
    }
   ],
   "source": [
    "R2_ridge_grid_train = r2_score(ridge_grid.predict(x_train), y_train)\n",
    "print('R squared value: %.3f' %(R2_ridge_grid_train))"
   ]
  },
  {
   "cell_type": "code",
   "execution_count": 26,
   "metadata": {},
   "outputs": [
    {
     "name": "stdout",
     "output_type": "stream",
     "text": [
      "Root mean squared error value: 631.925\n"
     ]
    }
   ],
   "source": [
    "RMSE_ridge_grid_train = sqrt(mean_squared_error(ridge_grid.predict(x_train), y_train))\n",
    "print('Root mean squared error value: %.3f' %(RMSE_ridge_grid_train))"
   ]
  },
  {
   "cell_type": "code",
   "execution_count": 27,
   "metadata": {},
   "outputs": [
    {
     "data": {
      "text/plain": [
       "Lasso(max_iter=50000, tol=0.1)"
      ]
     },
     "execution_count": 27,
     "metadata": {},
     "output_type": "execute_result"
    }
   ],
   "source": [
    "# Create an object \n",
    "lasso = Lasso(max_iter = 50000, tol=0.1)\n",
    "# Fit the model on the trainng data\n",
    "lasso.fit(x_train, y_train)"
   ]
  },
  {
   "cell_type": "code",
   "execution_count": 28,
   "metadata": {},
   "outputs": [
    {
     "name": "stdout",
     "output_type": "stream",
     "text": [
      "Best alpha value is: 10\n"
     ]
    }
   ],
   "source": [
    "# Import library to find out score (R2)\n",
    "from sklearn.metrics import r2_score\n",
    "\n",
    "# Define an array of alpha values\n",
    "alphas = [1e-15, 1e-10, 1e-8, 1e-5,1e-4, 1e-3,1e-2, 1, 5, 10]\n",
    "\n",
    "# Define GridSearchCV \n",
    "lasso_grid = GridSearchCV(estimator = lasso, param_grid = dict(alpha=alphas), scoring='r2')\n",
    "\n",
    "# Fit the training model \n",
    "lasso_grid.fit(x_train, y_train)\n",
    "\n",
    "# Get the best alpha value and it's respective R2 score\n",
    "print('Best alpha value is: %s' % lasso_grid.best_params_['alpha'])"
   ]
  },
  {
   "cell_type": "code",
   "execution_count": 29,
   "metadata": {},
   "outputs": [
    {
     "name": "stdout",
     "output_type": "stream",
     "text": [
      "R squared value: 0.490\n"
     ]
    }
   ],
   "source": [
    "R2_lasso_grid_train = r2_score(lasso_grid.predict(x_train), y_train)\n",
    "print('R squared value: %.3f' %(R2_lasso_grid_train))"
   ]
  },
  {
   "cell_type": "code",
   "execution_count": 30,
   "metadata": {},
   "outputs": [
    {
     "name": "stdout",
     "output_type": "stream",
     "text": [
      "Root mean squared error value: 632.085\n"
     ]
    }
   ],
   "source": [
    "RMSE_lasso_grid_train = sqrt(mean_squared_error(lasso_grid.predict(x_train), y_train))\n",
    "print('Root mean squared error value: %.3f' %(RMSE_lasso_grid_train))"
   ]
  },
  {
   "cell_type": "code",
   "execution_count": 31,
   "metadata": {},
   "outputs": [],
   "source": [
    "from collections import OrderedDict\n",
    "# Create a dictionary to store the train and test scores, best alpha values\n",
    "scores = {'Index': ['Linear Reg','Ridge_GridSearchCV', 'Lasso_GridSearchCV'],\n",
    "         'RMSE_train': [631.925, 631.925, 632.085],\n",
    "         'R2_train': [0.665, 0.496,0.490 ],\n",
    "         'Best_alpha': ['N/A', 10.0, 10.0]}\n",
    "scores = OrderedDict(scores)"
   ]
  },
  {
   "cell_type": "code",
   "execution_count": 32,
   "metadata": {},
   "outputs": [
    {
     "data": {
      "text/html": [
       "<style  type=\"text/css\" >\n",
       "#T_bd1e8d2e_5aa6_11eb_966b_54e1ad4ab6cerow0_col1,#T_bd1e8d2e_5aa6_11eb_966b_54e1ad4ab6cerow1_col1,#T_bd1e8d2e_5aa6_11eb_966b_54e1ad4ab6cerow2_col2{\n",
       "            background-color:  #ffffd9;\n",
       "            color:  #000000;\n",
       "        }#T_bd1e8d2e_5aa6_11eb_966b_54e1ad4ab6cerow0_col2,#T_bd1e8d2e_5aa6_11eb_966b_54e1ad4ab6cerow2_col1{\n",
       "            background-color:  #081d58;\n",
       "            color:  #f1f1f1;\n",
       "        }#T_bd1e8d2e_5aa6_11eb_966b_54e1ad4ab6cerow1_col2{\n",
       "            background-color:  #fafdcf;\n",
       "            color:  #000000;\n",
       "        }</style><table id=\"T_bd1e8d2e_5aa6_11eb_966b_54e1ad4ab6ce\" ><thead>    <tr>        <th class=\"blank level0\" ></th>        <th class=\"col_heading level0 col0\" >Index</th>        <th class=\"col_heading level0 col1\" >RMSE_train</th>        <th class=\"col_heading level0 col2\" >R2_train</th>        <th class=\"col_heading level0 col3\" >Best_alpha</th>    </tr></thead><tbody>\n",
       "                <tr>\n",
       "                        <th id=\"T_bd1e8d2e_5aa6_11eb_966b_54e1ad4ab6celevel0_row0\" class=\"row_heading level0 row0\" >0</th>\n",
       "                        <td id=\"T_bd1e8d2e_5aa6_11eb_966b_54e1ad4ab6cerow0_col0\" class=\"data row0 col0\" >Linear Reg</td>\n",
       "                        <td id=\"T_bd1e8d2e_5aa6_11eb_966b_54e1ad4ab6cerow0_col1\" class=\"data row0 col1\" >631.925000</td>\n",
       "                        <td id=\"T_bd1e8d2e_5aa6_11eb_966b_54e1ad4ab6cerow0_col2\" class=\"data row0 col2\" >0.665000</td>\n",
       "                        <td id=\"T_bd1e8d2e_5aa6_11eb_966b_54e1ad4ab6cerow0_col3\" class=\"data row0 col3\" >N/A</td>\n",
       "            </tr>\n",
       "            <tr>\n",
       "                        <th id=\"T_bd1e8d2e_5aa6_11eb_966b_54e1ad4ab6celevel0_row1\" class=\"row_heading level0 row1\" >1</th>\n",
       "                        <td id=\"T_bd1e8d2e_5aa6_11eb_966b_54e1ad4ab6cerow1_col0\" class=\"data row1 col0\" >Ridge_GridSearchCV</td>\n",
       "                        <td id=\"T_bd1e8d2e_5aa6_11eb_966b_54e1ad4ab6cerow1_col1\" class=\"data row1 col1\" >631.925000</td>\n",
       "                        <td id=\"T_bd1e8d2e_5aa6_11eb_966b_54e1ad4ab6cerow1_col2\" class=\"data row1 col2\" >0.496000</td>\n",
       "                        <td id=\"T_bd1e8d2e_5aa6_11eb_966b_54e1ad4ab6cerow1_col3\" class=\"data row1 col3\" >10.000000</td>\n",
       "            </tr>\n",
       "            <tr>\n",
       "                        <th id=\"T_bd1e8d2e_5aa6_11eb_966b_54e1ad4ab6celevel0_row2\" class=\"row_heading level0 row2\" >2</th>\n",
       "                        <td id=\"T_bd1e8d2e_5aa6_11eb_966b_54e1ad4ab6cerow2_col0\" class=\"data row2 col0\" >Lasso_GridSearchCV</td>\n",
       "                        <td id=\"T_bd1e8d2e_5aa6_11eb_966b_54e1ad4ab6cerow2_col1\" class=\"data row2 col1\" >632.085000</td>\n",
       "                        <td id=\"T_bd1e8d2e_5aa6_11eb_966b_54e1ad4ab6cerow2_col2\" class=\"data row2 col2\" >0.490000</td>\n",
       "                        <td id=\"T_bd1e8d2e_5aa6_11eb_966b_54e1ad4ab6cerow2_col3\" class=\"data row2 col3\" >10.000000</td>\n",
       "            </tr>\n",
       "    </tbody></table>"
      ],
      "text/plain": [
       "<pandas.io.formats.style.Styler at 0x12d2935b648>"
      ]
     },
     "execution_count": 32,
     "metadata": {},
     "output_type": "execute_result"
    }
   ],
   "source": [
    "# Create a dataframe from the dictionary\n",
    "reg_models_scores = pd.DataFrame.from_dict(scores)\n",
    "reg_models_scores.style.background_gradient(cmap='YlGnBu')"
   ]
  },
  {
   "cell_type": "code",
   "execution_count": 33,
   "metadata": {},
   "outputs": [
    {
     "data": {
      "text/plain": [
       "<AxesSubplot:xlabel='R2_train', ylabel='Index'>"
      ]
     },
     "execution_count": 33,
     "metadata": {},
     "output_type": "execute_result"
    },
    {
     "data": {
      "image/png": "[encoded data removed]",
      "text/plain": [
       "<Figure size 432x288 with 1 Axes>"
      ]
     },
     "metadata": {
      "needs_background": "light"
     },
     "output_type": "display_data"
    }
   ],
   "source": [
    "# visualisation of R2 Score\n",
    "sns.barplot(y=reg_models_scores.Index,x=reg_models_scores.R2_train)"
   ]
  },
  {
   "cell_type": "markdown",
   "metadata": {},
   "source": [
    "###  From above results we can say that Linear regression method result is good compared to other two regression models."
   ]
  },
  {
   "cell_type": "code",
   "execution_count": 34,
   "metadata": {},
   "outputs": [],
   "source": [
    "test_data = pd.read_csv(\"CE802_P3_Test.csv\")"
   ]
  },
  {
   "cell_type": "code",
   "execution_count": 35,
   "metadata": {},
   "outputs": [
    {
     "data": {
      "text/html": [
       "<div>\n",
       "<style scoped>\n",
       "    .dataframe tbody tr th:only-of-type {\n",
       "        vertical-align: middle;\n",
       "    }\n",
       "\n",
       "    .dataframe tbody tr th {\n",
       "        vertical-align: top;\n",
       "    }\n",
       "\n",
       "    .dataframe thead th {\n",
       "        text-align: right;\n",
       "    }\n",
       "</style>\n",
       "<table border=\"1\" class=\"dataframe\">\n",
       "  <thead>\n",
       "    <tr style=\"text-align: right;\">\n",
       "      <th></th>\n",
       "      <th>F1</th>\n",
       "      <th>F2</th>\n",
       "      <th>F3</th>\n",
       "      <th>F4</th>\n",
       "      <th>F5</th>\n",
       "      <th>F6</th>\n",
       "      <th>F7</th>\n",
       "      <th>F8</th>\n",
       "      <th>F9</th>\n",
       "      <th>F10</th>\n",
       "      <th>F11</th>\n",
       "      <th>F12</th>\n",
       "      <th>F13</th>\n",
       "      <th>F14</th>\n",
       "      <th>F15</th>\n",
       "      <th>F16</th>\n",
       "      <th>Target</th>\n",
       "    </tr>\n",
       "  </thead>\n",
       "  <tbody>\n",
       "    <tr>\n",
       "      <th>0</th>\n",
       "      <td>0.04</td>\n",
       "      <td>-0.21</td>\n",
       "      <td>3.68</td>\n",
       "      <td>1.54</td>\n",
       "      <td>-6.70</td>\n",
       "      <td>-929.34</td>\n",
       "      <td>234.18</td>\n",
       "      <td>USA</td>\n",
       "      <td>2</td>\n",
       "      <td>3391.35</td>\n",
       "      <td>-415.41</td>\n",
       "      <td>6</td>\n",
       "      <td>-1460.14</td>\n",
       "      <td>-20.55</td>\n",
       "      <td>Low</td>\n",
       "      <td>31369.98</td>\n",
       "      <td>NaN</td>\n",
       "    </tr>\n",
       "    <tr>\n",
       "      <th>1</th>\n",
       "      <td>0.89</td>\n",
       "      <td>2.97</td>\n",
       "      <td>2.28</td>\n",
       "      <td>1.97</td>\n",
       "      <td>-4.52</td>\n",
       "      <td>-700.62</td>\n",
       "      <td>106.84</td>\n",
       "      <td>Rest</td>\n",
       "      <td>2</td>\n",
       "      <td>3479.19</td>\n",
       "      <td>-320.73</td>\n",
       "      <td>2</td>\n",
       "      <td>-2301.76</td>\n",
       "      <td>-27.90</td>\n",
       "      <td>Low</td>\n",
       "      <td>29173.89</td>\n",
       "      <td>NaN</td>\n",
       "    </tr>\n",
       "    <tr>\n",
       "      <th>2</th>\n",
       "      <td>0.37</td>\n",
       "      <td>-0.17</td>\n",
       "      <td>7.14</td>\n",
       "      <td>0.40</td>\n",
       "      <td>-14.26</td>\n",
       "      <td>-796.14</td>\n",
       "      <td>32.30</td>\n",
       "      <td>USA</td>\n",
       "      <td>5</td>\n",
       "      <td>918.93</td>\n",
       "      <td>-379.44</td>\n",
       "      <td>4</td>\n",
       "      <td>-2589.08</td>\n",
       "      <td>-20.52</td>\n",
       "      <td>Very low</td>\n",
       "      <td>17248.26</td>\n",
       "      <td>NaN</td>\n",
       "    </tr>\n",
       "    <tr>\n",
       "      <th>3</th>\n",
       "      <td>5.37</td>\n",
       "      <td>0.07</td>\n",
       "      <td>7.18</td>\n",
       "      <td>6.81</td>\n",
       "      <td>-6.14</td>\n",
       "      <td>-801.03</td>\n",
       "      <td>32.92</td>\n",
       "      <td>Europe</td>\n",
       "      <td>2</td>\n",
       "      <td>2657.43</td>\n",
       "      <td>-491.28</td>\n",
       "      <td>6</td>\n",
       "      <td>-1767.44</td>\n",
       "      <td>-25.81</td>\n",
       "      <td>Low</td>\n",
       "      <td>15450.54</td>\n",
       "      <td>NaN</td>\n",
       "    </tr>\n",
       "    <tr>\n",
       "      <th>4</th>\n",
       "      <td>0.26</td>\n",
       "      <td>6.16</td>\n",
       "      <td>3.54</td>\n",
       "      <td>1.10</td>\n",
       "      <td>-16.76</td>\n",
       "      <td>-652.08</td>\n",
       "      <td>227.98</td>\n",
       "      <td>Rest</td>\n",
       "      <td>4</td>\n",
       "      <td>2739.96</td>\n",
       "      <td>-378.48</td>\n",
       "      <td>10</td>\n",
       "      <td>-1823.32</td>\n",
       "      <td>-23.11</td>\n",
       "      <td>Very low</td>\n",
       "      <td>35745.03</td>\n",
       "      <td>NaN</td>\n",
       "    </tr>\n",
       "  </tbody>\n",
       "</table>\n",
       "</div>"
      ],
      "text/plain": [
       "     F1    F2    F3    F4     F5      F6      F7      F8  F9      F10     F11  \\\n",
       "0  0.04 -0.21  3.68  1.54  -6.70 -929.34  234.18     USA   2  3391.35 -415.41   \n",
       "1  0.89  2.97  2.28  1.97  -4.52 -700.62  106.84    Rest   2  3479.19 -320.73   \n",
       "2  0.37 -0.17  7.14  0.40 -14.26 -796.14   32.30     USA   5   918.93 -379.44   \n",
       "3  5.37  0.07  7.18  6.81  -6.14 -801.03   32.92  Europe   2  2657.43 -491.28   \n",
       "4  0.26  6.16  3.54  1.10 -16.76 -652.08  227.98    Rest   4  2739.96 -378.48   \n",
       "\n",
       "   F12      F13    F14       F15       F16  Target  \n",
       "0    6 -1460.14 -20.55       Low  31369.98     NaN  \n",
       "1    2 -2301.76 -27.90       Low  29173.89     NaN  \n",
       "2    4 -2589.08 -20.52  Very low  17248.26     NaN  \n",
       "3    6 -1767.44 -25.81       Low  15450.54     NaN  \n",
       "4   10 -1823.32 -23.11  Very low  35745.03     NaN  "
      ]
     },
     "execution_count": 35,
     "metadata": {},
     "output_type": "execute_result"
    }
   ],
   "source": [
    "test_data.head()"
   ]
  },
  {
   "cell_type": "code",
   "execution_count": 36,
   "metadata": {
    "scrolled": false
   },
   "outputs": [
    {
     "name": "stdout",
     "output_type": "stream",
     "text": [
      "<class 'pandas.core.frame.DataFrame'>\n",
      "RangeIndex: 1500 entries, 0 to 1499\n",
      "Data columns (total 17 columns):\n",
      " #   Column  Non-Null Count  Dtype  \n",
      "---  ------  --------------  -----  \n",
      " 0   F1      1500 non-null   float64\n",
      " 1   F2      1500 non-null   float64\n",
      " 2   F3      1500 non-null   float64\n",
      " 3   F4      1500 non-null   float64\n",
      " 4   F5      1500 non-null   float64\n",
      " 5   F6      1500 non-null   float64\n",
      " 6   F7      1500 non-null   float64\n",
      " 7   F8      1500 non-null   object \n",
      " 8   F9      1500 non-null   int64  \n",
      " 9   F10     1500 non-null   float64\n",
      " 10  F11     1500 non-null   float64\n",
      " 11  F12     1500 non-null   int64  \n",
      " 12  F13     1500 non-null   float64\n",
      " 13  F14     1500 non-null   float64\n",
      " 14  F15     1500 non-null   object \n",
      " 15  F16     1500 non-null   float64\n",
      " 16  Target  0 non-null      float64\n",
      "dtypes: float64(13), int64(2), object(2)\n",
      "memory usage: 199.3+ KB\n"
     ]
    }
   ],
   "source": [
    "test_data.info()"
   ]
  },
  {
   "cell_type": "code",
   "execution_count": 37,
   "metadata": {},
   "outputs": [],
   "source": [
    "test_data[\"F8\"]= lbe.fit_transform(test_data[\"F8\"]) \n",
    "test_data[\"F15\"]= lbe.fit_transform(test_data[\"F15\"]) "
   ]
  },
  {
   "cell_type": "code",
   "execution_count": 38,
   "metadata": {},
   "outputs": [],
   "source": [
    "x_test=test_data.drop(['Target'],axis=1)\n",
    "y_test=test_data['Target']"
   ]
  },
  {
   "cell_type": "markdown",
   "metadata": {},
   "source": [
    "### b) Prediction on a hold-out test set."
   ]
  },
  {
   "cell_type": "code",
   "execution_count": 39,
   "metadata": {
    "colab": {
     "base_uri": "https://localhost:8080/"
    },
    "id": "qHNiX21bSzFK",
    "outputId": "adabe435-48e5-4dc0-92b2-031f6fb34089"
   },
   "outputs": [],
   "source": [
    "# Using Linear Regression for final model\n",
    "Predictions = lr.predict(x_test)"
   ]
  },
  {
   "cell_type": "code",
   "execution_count": 40,
   "metadata": {
    "colab": {
     "base_uri": "https://localhost:8080/",
     "height": 419
    },
    "id": "dCbNt5utSzFK",
    "outputId": "814230c1-3a1d-44f9-d244-4a244487a003"
   },
   "outputs": [
    {
     "data": {
      "text/html": [
       "<div>\n",
       "<style scoped>\n",
       "    .dataframe tbody tr th:only-of-type {\n",
       "        vertical-align: middle;\n",
       "    }\n",
       "\n",
       "    .dataframe tbody tr th {\n",
       "        vertical-align: top;\n",
       "    }\n",
       "\n",
       "    .dataframe thead th {\n",
       "        text-align: right;\n",
       "    }\n",
       "</style>\n",
       "<table border=\"1\" class=\"dataframe\">\n",
       "  <thead>\n",
       "    <tr style=\"text-align: right;\">\n",
       "      <th></th>\n",
       "      <th>F1</th>\n",
       "      <th>F2</th>\n",
       "      <th>F3</th>\n",
       "      <th>F4</th>\n",
       "      <th>F5</th>\n",
       "      <th>F6</th>\n",
       "      <th>F7</th>\n",
       "      <th>F8</th>\n",
       "      <th>F9</th>\n",
       "      <th>F10</th>\n",
       "      <th>F11</th>\n",
       "      <th>F12</th>\n",
       "      <th>F13</th>\n",
       "      <th>F14</th>\n",
       "      <th>F15</th>\n",
       "      <th>F16</th>\n",
       "      <th>Target</th>\n",
       "    </tr>\n",
       "  </thead>\n",
       "  <tbody>\n",
       "    <tr>\n",
       "      <th>0</th>\n",
       "      <td>0.04</td>\n",
       "      <td>-0.21</td>\n",
       "      <td>3.68</td>\n",
       "      <td>1.54</td>\n",
       "      <td>-6.70</td>\n",
       "      <td>-929.34</td>\n",
       "      <td>234.18</td>\n",
       "      <td>3</td>\n",
       "      <td>2</td>\n",
       "      <td>3391.35</td>\n",
       "      <td>-415.41</td>\n",
       "      <td>6</td>\n",
       "      <td>-1460.14</td>\n",
       "      <td>-20.55</td>\n",
       "      <td>1</td>\n",
       "      <td>31369.98</td>\n",
       "      <td>975.943680</td>\n",
       "    </tr>\n",
       "    <tr>\n",
       "      <th>1</th>\n",
       "      <td>0.89</td>\n",
       "      <td>2.97</td>\n",
       "      <td>2.28</td>\n",
       "      <td>1.97</td>\n",
       "      <td>-4.52</td>\n",
       "      <td>-700.62</td>\n",
       "      <td>106.84</td>\n",
       "      <td>1</td>\n",
       "      <td>2</td>\n",
       "      <td>3479.19</td>\n",
       "      <td>-320.73</td>\n",
       "      <td>2</td>\n",
       "      <td>-2301.76</td>\n",
       "      <td>-27.90</td>\n",
       "      <td>1</td>\n",
       "      <td>29173.89</td>\n",
       "      <td>-321.350724</td>\n",
       "    </tr>\n",
       "    <tr>\n",
       "      <th>2</th>\n",
       "      <td>0.37</td>\n",
       "      <td>-0.17</td>\n",
       "      <td>7.14</td>\n",
       "      <td>0.40</td>\n",
       "      <td>-14.26</td>\n",
       "      <td>-796.14</td>\n",
       "      <td>32.30</td>\n",
       "      <td>3</td>\n",
       "      <td>5</td>\n",
       "      <td>918.93</td>\n",
       "      <td>-379.44</td>\n",
       "      <td>4</td>\n",
       "      <td>-2589.08</td>\n",
       "      <td>-20.52</td>\n",
       "      <td>4</td>\n",
       "      <td>17248.26</td>\n",
       "      <td>-20.925263</td>\n",
       "    </tr>\n",
       "    <tr>\n",
       "      <th>3</th>\n",
       "      <td>5.37</td>\n",
       "      <td>0.07</td>\n",
       "      <td>7.18</td>\n",
       "      <td>6.81</td>\n",
       "      <td>-6.14</td>\n",
       "      <td>-801.03</td>\n",
       "      <td>32.92</td>\n",
       "      <td>0</td>\n",
       "      <td>2</td>\n",
       "      <td>2657.43</td>\n",
       "      <td>-491.28</td>\n",
       "      <td>6</td>\n",
       "      <td>-1767.44</td>\n",
       "      <td>-25.81</td>\n",
       "      <td>1</td>\n",
       "      <td>15450.54</td>\n",
       "      <td>242.506482</td>\n",
       "    </tr>\n",
       "    <tr>\n",
       "      <th>4</th>\n",
       "      <td>0.26</td>\n",
       "      <td>6.16</td>\n",
       "      <td>3.54</td>\n",
       "      <td>1.10</td>\n",
       "      <td>-16.76</td>\n",
       "      <td>-652.08</td>\n",
       "      <td>227.98</td>\n",
       "      <td>1</td>\n",
       "      <td>4</td>\n",
       "      <td>2739.96</td>\n",
       "      <td>-378.48</td>\n",
       "      <td>10</td>\n",
       "      <td>-1823.32</td>\n",
       "      <td>-23.11</td>\n",
       "      <td>4</td>\n",
       "      <td>35745.03</td>\n",
       "      <td>584.293488</td>\n",
       "    </tr>\n",
       "  </tbody>\n",
       "</table>\n",
       "</div>"
      ],
      "text/plain": [
       "     F1    F2    F3    F4     F5      F6      F7  F8  F9      F10     F11  \\\n",
       "0  0.04 -0.21  3.68  1.54  -6.70 -929.34  234.18   3   2  3391.35 -415.41   \n",
       "1  0.89  2.97  2.28  1.97  -4.52 -700.62  106.84   1   2  3479.19 -320.73   \n",
       "2  0.37 -0.17  7.14  0.40 -14.26 -796.14   32.30   3   5   918.93 -379.44   \n",
       "3  5.37  0.07  7.18  6.81  -6.14 -801.03   32.92   0   2  2657.43 -491.28   \n",
       "4  0.26  6.16  3.54  1.10 -16.76 -652.08  227.98   1   4  2739.96 -378.48   \n",
       "\n",
       "   F12      F13    F14  F15       F16      Target  \n",
       "0    6 -1460.14 -20.55    1  31369.98  975.943680  \n",
       "1    2 -2301.76 -27.90    1  29173.89 -321.350724  \n",
       "2    4 -2589.08 -20.52    4  17248.26  -20.925263  \n",
       "3    6 -1767.44 -25.81    1  15450.54  242.506482  \n",
       "4   10 -1823.32 -23.11    4  35745.03  584.293488  "
      ]
     },
     "execution_count": 40,
     "metadata": {},
     "output_type": "execute_result"
    }
   ],
   "source": [
    "# Saving predicted values\n",
    "x_test[\"Target\"] = Predictions\n",
    "x_test.head()"
   ]
  },
  {
   "cell_type": "code",
   "execution_count": 41,
   "metadata": {},
   "outputs": [],
   "source": [
    "x_test.to_csv(\"CE802_P3_Test_new.csv\")"
   ]
  }
 ],
 "metadata": {
  "colab": {
   "collapsed_sections": [
    "cAkLH0SYSzE7",
    "WTAc3xpjSzE-",
    "oK7WS7uKSzFB",
    "ZMfZYjyFSzFC",
    "bUsBZ9dwSzFD",
    "L-2OcCKISzFD",
    "pk1I3F6VSzFD",
    "qXmh6UKBSzFD",
    "ManV7rcRSzFE",
    "cl5SrKoBSzFE",
    "IaCYIYV8SzFE",
    "oDVPArYPSzFF",
    "KCAHVwOqSzFF",
    "WedVVzx-SzFF",
    "83YHOiQWSzFF",
    "gPvlOcobSzFG",
    "QUTkFiRcSzFK"
   ],
   "name": "Micro_Credit_model.ipynb",
   "provenance": []
  },
  "kernelspec": {
   "display_name": "Python 3",
   "language": "python",
   "name": "python3"
  },
  "language_info": {
   "codemirror_mode": {
    "name": "ipython",
    "version": 3
   },
   "file_extension": ".py",
   "mimetype": "text/x-python",
   "name": "python",
   "nbconvert_exporter": "python",
   "pygments_lexer": "ipython3",
   "version": "3.7.9"
  }
 },
 "nbformat": 4,
 "nbformat_minor": 1
}
